{
 "cells": [
  {
   "cell_type": "markdown",
   "metadata": {
    "slideshow": {
     "data": {
      "background-image": "./images/presentation/without-ship-taller-img.png",
      "background-opacity": "0.3"
     },
     "slide_type": "slide"
    }
   },
   "source": [
    "<h1 style=\"margin-top: 0px; position: absolute; left: 5vh; top: -5vh;\">\n",
    "    How to create a<br><b>Devcontainer</b> for your<br>Python project 🐳\n",
    "</h1>"
   ]
  },
  {
   "cell_type": "markdown",
   "metadata": {
    "slideshow": {
     "slide_type": "notes"
    }
   },
   "source": [
    "Hi. Welcome everyone. So today we are going to talk about \"How to create a Devcontainer for your Python project\".\n",
    "\n",
    "First: I'd like to get a show of hands 🙋‍♀️🙋‍♂️🖐:\n",
    "- Who has played around with Devcontainers before?\n",
    "- Who has used Devcontainers at their company?"
   ]
  },
  {
   "cell_type": "markdown",
   "metadata": {
    "slideshow": {
     "slide_type": "slide"
    }
   },
   "source": [
    "<img src=\"images/presentation/jeroen-overschie-intro.png\" alt=\"Jeroen Overschie\" width=\"600px\" />"
   ]
  },
  {
   "cell_type": "markdown",
   "metadata": {
    "slideshow": {
     "slide_type": "notes"
    }
   },
   "source": [
    "I am Jeroen Overschie. I am a Machine Learning Engineer at GoDataDriven, working in Amsterdam. I help companies take their Machine Learning solutions into production."
   ]
  },
  {
   "cell_type": "markdown",
   "metadata": {
    "slideshow": {
     "slide_type": "slide"
    }
   },
   "source": [
    "## The use case\n",
    "\n",
    "You are assigned to setup a new repo for a team. The requirements are as follows:"
   ]
  },
  {
   "cell_type": "markdown",
   "metadata": {},
   "source": [
    "<img src=\"images/presentation/logo-spark.png\" alt=\"Apache Spark\" width=\"200px\" class=\"fragment\" data-fragment-index=\"0\" style=\"\n",
    "    display: inline-block;\n",
    "    margin-right: 3%;\n",
    "    margin-left: 6%;\n",
    "\">\n",
    "<img src=\"images/presentation/logo-pyspark.png\" alt=\"Apache Spark - pyspark\" width=\"200px\" class=\"fragment\" data-fragment-index=\"1\" style=\"\n",
    "    display: inline-block;\n",
    "    margin-right: 3%;\n",
    "\">\n",
    "<img src=\"images/presentation/logo-python.png\" alt=\"Python\" width=\"200px\" class=\"fragment\" data-fragment-index=\"2\" style=\"\n",
    "    display: inline-block;\n",
    "\">\n",
    "\n",
    "\n",
    "<!-- <table>\n",
    "<tr>\n",
    "<td>\n",
    "<img src=\"images/presentation/logo-spark.png\" alt=\"Apache Spark\" width=\"200px\" class=\"fragment\" />\n",
    "</td>\n",
    "<td>\n",
    "<img src=\"images/presentation/logo-pyspark.png\" alt=\"Apache Spark - pyspark\" width=\"200px\" class=\"fragment\" />\n",
    "</td>\n",
    "<td>\n",
    "<img src=\"images/presentation/logo-python.png\" alt=\"Python\" width=\"200px\" class=\"fragment\" />\n",
    "</td>\n",
    "</tr>\n",
    "</table> -->"
   ]
  },
  {
   "cell_type": "markdown",
   "metadata": {
    "slideshow": {
     "slide_type": "fragment"
    }
   },
   "source": [
    "So we need to align on:"
   ]
  },
  {
   "cell_type": "markdown",
   "metadata": {
    "slideshow": {
     "slide_type": "fragment"
    }
   },
   "source": [
    "- 📌 A specific Java version"
   ]
  },
  {
   "cell_type": "markdown",
   "metadata": {
    "slideshow": {
     "slide_type": "fragment"
    }
   },
   "source": [
    "- 📌 A specific Python version"
   ]
  },
  {
   "cell_type": "markdown",
   "metadata": {
    "slideshow": {
     "slide_type": "fragment"
    }
   },
   "source": [
    "- 📌 A specific `pyspark` version"
   ]
  },
  {
   "cell_type": "markdown",
   "metadata": {
    "slideshow": {
     "slide_type": "fragment"
    }
   },
   "source": [
    "→ otherwise we do not enjoy the guarantees we want in **production** code"
   ]
  },
  {
   "cell_type": "markdown",
   "metadata": {
    "slideshow": {
     "slide_type": "notes"
    }
   },
   "source": [
    "- Apache Spark to **process data** (we have a cluster setup. Plus needs **Java**.)\n",
    "- pyspark (pip package)\n",
    "- Python (Python version)\n",
    "\n",
    "→ we want **guarantees** in production code."
   ]
  },
  {
   "cell_type": "markdown",
   "metadata": {
    "slideshow": {
     "slide_type": "skip"
    }
   },
   "source": [
    "# “I never get to the actual work because I am always configuring Python virtual environments”\n",
    "\n",
    "— Python Developer, source and date unknown"
   ]
  },
  {
   "cell_type": "markdown",
   "metadata": {
    "slideshow": {
     "slide_type": "subslide"
    }
   },
   "source": [
    "<img src=\"./images/presentation/teams-logo-64.png\" \n",
    "    style=\"float: left; width: 32px; margin-right: 5px; position: absolute; top: -10px;\"\n",
    "    />\n",
    "<table style=\"background-color: #F5F5F5\">\n",
    "    <tr style=\"background: none\">\n",
    "        <td style=\"border: none\">\n",
    "            <div class=\"teams-message-box fragment\">\n",
    "                <div class=\"teams-avatar teams-background-1\">\n",
    "                    PP\n",
    "                </div>\n",
    "                <div class=\"teams-message\">\n",
    "                    <div class=\"teams-name-box\">\n",
    "                        <span class=\"teams-name\">Petra the Python Dev</span>\n",
    "                        <time>\n",
    "                            19/10 10:30\n",
    "                        </time>\n",
    "                    </div>\n",
    "                    <!-- Hi! Sorry I couldn't join the meeting just now. I messed up my pyenv again 🥲. Wanted to fix it fast so I could at least have it working this afternoon. -->\n",
    "                    Hi my venv somehow got corrupted 🥲. It's saying <code>No module named 'numpy'</code> even though I seemingly have it installed. Not sure how to fix.\n",
    "                    <br>\n",
    "                    P.S. this is also why I was not in the meeting.\n",
    "                </div>\n",
    "            </div>\n",
    "        </td>\n",
    "        <td style=\"border: none\">\n",
    "        </td>\n",
    "        <td style=\"border: none\">\n",
    "            <div class=\"teams-message-box fragment\">\n",
    "                <div class=\"teams-avatar teams-background-2\">\n",
    "                    EO\n",
    "                </div>\n",
    "                <div class=\"teams-message\">\n",
    "                    <div class=\"teams-name-box\">\n",
    "                        <span class=\"teams-name\">Erik the old project maintainer</span>\n",
    "                        <time>\n",
    "                            19/11 11:30\n",
    "                        </time>\n",
    "                    </div>\n",
    "                    Hey so I was working on maintaining the old project. Just found out that some of the dependencies don't even work on my MacOS version anymore. FML\n",
    "                </div>\n",
    "            </div>\n",
    "        </td>\n",
    "    </tr>\n",
    "    <tr style=\"background: none\">\n",
    "        <td style=\"border: none\">\n",
    "            <div class=\"teams-message-box fragment\">\n",
    "                <div class=\"teams-avatar teams-background-3\">\n",
    "                    BW\n",
    "                </div>\n",
    "                <div class=\"teams-message\">\n",
    "                    <div class=\"teams-name-box\">\n",
    "                        <span class=\"teams-name\">Billy Windows</span>\n",
    "                        <time>\n",
    "                            15/11 15:30\n",
    "                        </time>\n",
    "                    </div>\n",
    "                    I'm trying to dockerize the project but it's haaard. Everything that works on my Windows laptop seems to fail on Linux. \n",
    "                    <!-- We should have done this earlier. Anyway: I think we should ask the PO for an extension for running the entire thing in production. -->\n",
    "                </div>\n",
    "            </div>\n",
    "        </td>\n",
    "        <td style=\"border: none\" colspan=\"2\">\n",
    "            <div class=\"teams-message-box fragment\">\n",
    "                <div class=\"teams-avatar teams-background-4\">\n",
    "                    JJ\n",
    "                </div>\n",
    "                <div class=\"teams-message\">\n",
    "                    <div class=\"teams-name-box\">\n",
    "                        <span class=\"teams-name\">Johnny Junior</span>\n",
    "                        <time>\n",
    "                            10/10 13:32\n",
    "                        </time>\n",
    "                    </div>\n",
    "                    Hii. Can you maybe run <code>pip show pyspark</code>? I'm curious which pyspark version you are running 🧐. Because if it works for you but not for me and also not in the CI maybe your environment is different than both. Just checking.\n",
    "                </div>\n",
    "            </div>\n",
    "        </td>\n",
    "    </tr>\n",
    "    <tr style=\"background: none\">\n",
    "        <td style=\"border: none\" colspan=\"3\">\n",
    "            <div class=\"teams-message-box fragment\">\n",
    "                <div class=\"teams-avatar teams-background-5\">\n",
    "                    JJ\n",
    "                </div>\n",
    "                <div class=\"teams-message\">\n",
    "                    <div class=\"teams-name-box\">\n",
    "                        <span class=\"teams-name\">Johnny Junior</span>\n",
    "                        <time>\n",
    "                            19/10 09:03\n",
    "                        </time>\n",
    "                    </div>\n",
    "                    Good day. I'm new at the company and wanted to get started working on the repo. Tried following the README steps but doesn't work. By any chance: are there any more detailed docs available for project setup? No right? 🙃\n",
    "                    <!-- There weren't any docs on how to set up the correct venv right? Mine somehow got corrupted 🙃. It's saying <code>No module named 'numpy'</code> even though I seemingly have it installed. Not sure how to fix. -->\n",
    "                </div>\n",
    "            </div>\n",
    "        </td>\n",
    "    </tr>\n",
    "</table>"
   ]
  },
  {
   "cell_type": "markdown",
   "metadata": {
    "slideshow": {
     "slide_type": "notes"
    }
   },
   "source": [
    "1. PP: **Petra the Python Dev.** Hi my venv somehow got corrupted 🥲. It's saying `No module named 'numpy'`. even though I seemingly have it installed. Not sure how to fix.\n",
    "P.S. this is also why I was not in the meeting.\n",
    "1. EO: **Erik the old project maintainer.** Hey so I was working on maintaining the old project. Just found out that some of the dependencies don't even work on my MacOS version anymore. FML\n",
    "1. BW: **Billy Windows.** I'm trying to dockerize the project but it's haaard. Everything that works on my Windows laptop seems to fail on Linux.\n",
    "1. PU: **PySpark user.** Hii. Can you maybe run `pip show pyspark`? I'm curious which pyspark version you are running 🧐. Because if it works for you but not for me and also not in the CI maybe your environment is different than both. Just checking.\n",
    "1. JJ: **Johnny Junior.** Good day. I'm new at the company and wanted to get started working on the repo. Tried following the README steps but doesn't work. By any chance: are there more detailed docs available for the project setup? No right? 🙃"
   ]
  },
  {
   "cell_type": "markdown",
   "metadata": {
    "slideshow": {
     "slide_type": "subslide"
    }
   },
   "source": [
    "🐛 Issues\n",
    "\n",
    "<table style=\"font-size: 110%;\">\n",
    "    <tr style=\"background: none\" class=\"fragment\">\n",
    "        <td style=\"border: none;\">\n",
    "            <div class=\"teams-avatar teams-background-1\" style=\"top:0;\">\n",
    "                PP\n",
    "            </div>\n",
    "        </td>\n",
    "        <td style=\"border: none; color: #5b5b5b;\">\n",
    "            Petra the Python Dev\n",
    "        </td>\n",
    "        <td style=\"border: none;\">\n",
    "            Corrupted Virtual Environment<br>\n",
    "        </td>\n",
    "    </tr>\n",
    "    <tr style=\"background: none\" class=\"fragment\">\n",
    "        <td style=\"border: none;\">\n",
    "            <div class=\"teams-avatar teams-background-2\" style=\"top:0;\">\n",
    "                EO\n",
    "            </div>\n",
    "        </td>\n",
    "        <td style=\"border: none; color: #5b5b5b;\">\n",
    "            Erik the old project maintainer\n",
    "        </td>\n",
    "        <td style=\"border: none;\">\n",
    "            Outdated project dependencies<br>\n",
    "        </td>\n",
    "    </tr>\n",
    "    <tr style=\"background: none\" class=\"fragment\">\n",
    "        <td style=\"border: none;\">\n",
    "            <div class=\"teams-avatar teams-background-3\" style=\"top:0;\">\n",
    "                BW\n",
    "            </div>\n",
    "        </td>\n",
    "        <td style=\"border: none; color: #5b5b5b;\">\n",
    "            Billy Windows\n",
    "        </td>\n",
    "        <td style=\"border: none;\">\n",
    "            Containerisation & going into production\n",
    "            <br><span style=\"color:#ccc;\">e.g. Windows / Linux / MacOS</span>\n",
    "        </td>\n",
    "    </tr>\n",
    "    <tr style=\"background: none\" class=\"fragment\">\n",
    "        <td style=\"border: none;\">\n",
    "            <div class=\"teams-avatar teams-background-4\" style=\"top:0;\">\n",
    "                PU\n",
    "            </div>\n",
    "        </td>\n",
    "        <td style=\"border: none; color: #5b5b5b;\">\n",
    "            PySpark user\n",
    "        </td>\n",
    "        <td style=\"border: none;\">\n",
    "            Inconsistent environments\n",
    "            <br><span style=\"color:#ccc;\">e.g. local ↔ CI ↔ prod ↔ team members</span>\n",
    "        </td>\n",
    "    </tr>\n",
    "    <tr style=\"background: none\" class=\"fragment\">\n",
    "        <td style=\"border: none;\">\n",
    "            <div class=\"teams-avatar teams-background-5\" style=\"top:0;\">\n",
    "                JJ\n",
    "            </div>\n",
    "        </td>\n",
    "        <td style=\"border: none; color: #5b5b5b;\">\n",
    "            Johnny Junior \n",
    "        </td>\n",
    "        <td style=\"border: none;\">\n",
    "            No formal specification of install steps\n",
    "            <br><span style=\"color:#ccc;\">and missing docs 📚</span>\n",
    "        </td>\n",
    "    </tr>\n",
    "</table>"
   ]
  },
  {
   "cell_type": "markdown",
   "metadata": {
    "slideshow": {
     "slide_type": "fragment"
    }
   },
   "source": [
    "<!-- <h3>How to get a ...<br> -->\n",
    "<!-- 🔄 <b>reproducible</b><br>Dev environment?</h3> -->\n",
    "\n",
    "<h3>🔄 How to get a <b>reproducible</b> Dev environment?</h3>"
   ]
  },
  {
   "cell_type": "markdown",
   "metadata": {
    "slideshow": {
     "slide_type": "slide"
    }
   },
   "source": [
    "## Devcontainers to the rescue ⛑!"
   ]
  },
  {
   "cell_type": "markdown",
   "metadata": {
    "slideshow": {
     "slide_type": "fragment"
    }
   },
   "source": [
    "🐳 **Docker** helps us create a formal definition of our environment.\n",
    "\n",
    "🔌 **Devcontainers** allow you to connect your editor (IDE) to that container."
   ]
  },
  {
   "cell_type": "markdown",
   "metadata": {
    "slideshow": {
     "slide_type": "subslide"
    }
   },
   "source": [
    "<img src=\"./images/presentation/devcontainer-overview-4.webp\" alt=\"Devcontainer overview\" style=\"\n",
    "    margin: 0;\n",
    "\">"
   ]
  },
  {
   "cell_type": "markdown",
   "metadata": {
    "slideshow": {
     "slide_type": "fragment"
    }
   },
   "source": [
    "<table>\n",
    "<tr>\n",
    "<td width=\"70%\" style=\"vertical-align: baseline;\">\n",
    "<span style=\"color: #4d4d4d;\" class=\"fragment\">🔄 <b>Reproducible</b> means:</span>\n",
    "<ul>\n",
    "<li class=\"fragment\">\n",
    "⚡️ Faster onboarding\n",
    "</li>\n",
    "<li class=\"fragment\">\n",
    "👨‍👩‍👧‍👦 Better alignment between team members\n",
    "</li>\n",
    "<li class=\"fragment\">\n",
    "⏱ Smaller gap to production\n",
    "</li>\n",
    "</ul>\n",
    "</td>\n",
    "<td width=\"30%\" style=\"vertical-align: top;\" class=\"fragment\">\n",
    "<span style=\"color: #4d4d4d;\">Downsides?</span>\n",
    "<ul>\n",
    "<li>\n",
    "Docker knowledge\n",
    "</li>\n",
    "</ul>\n",
    "</td>\n",
    "</tr>\n",
    "</table>"
   ]
  },
  {
   "cell_type": "markdown",
   "metadata": {
    "slideshow": {
     "slide_type": "notes"
    }
   },
   "source": [
    "- **Docker**\n",
    "- **Devcontainer**: connect to your IDE\n",
    "- **Formal** instruction set for dev env setup"
   ]
  },
  {
   "cell_type": "markdown",
   "metadata": {
    "slideshow": {
     "slide_type": "slide"
    }
   },
   "source": [
    "## 👷🏻‍♂️ Let's build a Devcontainer!"
   ]
  },
  {
   "cell_type": "markdown",
   "metadata": {
    "slideshow": {
     "slide_type": "subslide"
    }
   },
   "source": [
    "Let’s say we have a really simple project that looks like this:\n",
    "\n",
    "```bash\n",
    "$ tree .\n",
    ".\n",
    "├── README.md\n",
    "├── requirements.txt\n",
    "├── requirements-dev.txt\n",
    "├── sales_analysis.py\n",
    "└── test_sales_analysis.py\n",
    "```"
   ]
  },
  {
   "cell_type": "markdown",
   "metadata": {
    "slideshow": {
     "slide_type": "subslide"
    }
   },
   "source": [
    "### The `.devcontainer` folder\n",
    "Your Devcontainer spec will live inside the `.devcontainer` folder."
   ]
  },
  {
   "cell_type": "markdown",
   "metadata": {
    "slideshow": {
     "slide_type": "fragment"
    }
   },
   "source": [
    " There will be two main files:\n",
    "\n",
    "- `devcontainer.json`\n",
    "- `Dockerfile`\n"
   ]
  },
  {
   "cell_type": "markdown",
   "metadata": {
    "slideshow": {
     "slide_type": "subslide"
    }
   },
   "source": [
    "Create a new file called `devcontainer.json`:\n",
    "\n",
    "```json\n",
    "{\n",
    "    \"build\": {\n",
    "        \"dockerfile\": \"Dockerfile\",\n",
    "        \"context\": \"..\"\n",
    "    }\n",
    "}\n",
    "```\n"
   ]
  },
  {
   "cell_type": "markdown",
   "metadata": {
    "slideshow": {
     "slide_type": "notes"
    }
   },
   "source": [
    "This does basically means: as a base for our Devcontainer, use the `Dockerfile` located in the current directory, and build it with a *current working directory* (cwd) of `..`.\n"
   ]
  },
  {
   "cell_type": "markdown",
   "metadata": {
    "slideshow": {
     "slide_type": "subslide"
    }
   },
   "source": [
    "So how does this `Dockerfile` look like?\n",
    "\n",
    "<pre class=\"docker\">\n",
    "<code data-line-numbers=\"*|1|6|13|17\">FROM python:3.10\n",
    "\n",
    "# Install Java\n",
    "RUN apt update && \\\n",
    "&nbsp;&nbsp;&nbsp;&nbsp;apt install -y sudo && \\\n",
    "&nbsp;&nbsp;&nbsp;&nbsp;sudo apt install default-jdk -y\n",
    "\n",
    "## Pip dependencies\n",
    "# Upgrade pip\n",
    "RUN pip install --upgrade pip\n",
    "# Install production dependencies\n",
    "COPY requirements.txt /tmp/requirements.txt\n",
    "RUN pip install -r /tmp/requirements.txt && \\\n",
    "&nbsp;&nbsp;&nbsp;&nbsp;rm /tmp/requirements.txt\n",
    "# Install development dependencies\n",
    "COPY requirements-dev.txt /tmp/requirements-dev.txt\n",
    "RUN pip install -r /tmp/requirements-dev.txt && \\\n",
    "&nbsp;&nbsp;&nbsp;&nbsp;rm /tmp/requirements-dev.txt</code>\n",
    "</pre>"
   ]
  },
  {
   "cell_type": "markdown",
   "metadata": {
    "slideshow": {
     "slide_type": "notes"
    }
   },
   "source": [
    "Helping out:\n",
    "\n",
    "<tr style=\"background: none\" class=\"fragment\">\n",
    "    <td style=\"border: none;\">\n",
    "        <div class=\"teams-avatar teams-background-2\" style=\"top:0;\">\n",
    "            EO\n",
    "        </div>\n",
    "    </td>\n",
    "    <td style=\"border: none; color: #5b5b5b;\">\n",
    "        Erik the old project maintainer\n",
    "    </td>\n",
    "    <td style=\"border: none;\">\n",
    "        Outdated project dependencies<br>\n",
    "    </td>\n",
    "</tr>\n",
    "<tr style=\"background: none\" class=\"fragment\">\n",
    "    <td style=\"border: none;\">\n",
    "        <div class=\"teams-avatar teams-background-3\" style=\"top:0;\">\n",
    "            BW\n",
    "        </div>\n",
    "    </td>\n",
    "    <td style=\"border: none; color: #5b5b5b;\">\n",
    "        Billy Windows\n",
    "    </td>\n",
    "    <td style=\"border: none;\">\n",
    "        Containerisation & going into production\n",
    "        <br><span style=\"color:#ccc;\">e.g. Windows / Linux / MacOS</span>\n",
    "    </td>\n",
    "</tr>\n",
    "<tr style=\"background: none\" class=\"fragment\">\n",
    "    <td style=\"border: none;\">\n",
    "        <div class=\"teams-avatar teams-background-5\" style=\"top:0;\">\n",
    "            JJ\n",
    "        </div>\n",
    "    </td>\n",
    "    <td style=\"border: none; color: #5b5b5b;\">\n",
    "        Johnny Junior \n",
    "    </td>\n",
    "    <td style=\"border: none;\">\n",
    "        No formal specification of install steps\n",
    "        <br><span style=\"color:#ccc;\">and missing docs 📚</span>\n",
    "    </td>\n",
    "</tr>"
   ]
  },
  {
   "cell_type": "markdown",
   "metadata": {
    "slideshow": {
     "slide_type": "notes"
    }
   },
   "source": [
    "We are building our image on top of `python:3.10`, which is a Debian-based image. This is one of the Linux distributions that a Devcontainer can be built on. The main requirement is that **Node.js** should be able to run: VSCode automatically installs VSCode Server on the machine.\n",
    "\n",
    "For an extensive list of supported distributions, see [“Remote Development with Linux”](https://code.visualstudio.com/docs/remote/linux)."
   ]
  },
  {
   "cell_type": "markdown",
   "metadata": {
    "slideshow": {
     "slide_type": "subslide"
    }
   },
   "source": [
    "### Opening the Devcontainer\n",
    "\n",
    "The `.devcontainer` folder in place, now it’s time to open our Devcontainer.\n"
   ]
  },
  {
   "cell_type": "markdown",
   "metadata": {
    "slideshow": {
     "slide_type": "subslide"
    }
   },
   "source": [
    "Open up the command pallete (<kbd>CMD</kbd> + <kbd>Shift</kbd> + <kbd>P</kbd>) and select “*Dev Containers: Reopen in Container*”:\n",
    "\n",
    "![Dev Containers: Reopen in Container](./images/presentation/reopen-in-devcontainer-notification.png)\n"
   ]
  },
  {
   "cell_type": "markdown",
   "metadata": {
    "slideshow": {
     "slide_type": "subslide"
    }
   },
   "source": [
    "Upon opening a repo with a valid `.devcontainer` folder, you are already notified:\n",
    "\n",
    "![folder contains a dev container config file](./images/presentation/folder-contains-a-dev-container-config-file.png)\n"
   ]
  },
  {
   "cell_type": "markdown",
   "metadata": {
    "slideshow": {
     "slide_type": "skip"
    }
   },
   "source": [
    "Your VSCode is now connected to the Docker container 🙌🏻:\n",
    "\n",
    "<!-- ![VSCode is now connected to the Docker container](https://godatadriven.com/wp-content/uploads/2022/10/opening-the-devcontainer.gif) -->\n",
    "\n",
    "<img src=\"./images/presentation/opening-the-devcontainer.gif\" width=\"80%\" alt=\"VSCode is now connected to the Docker container\"/>\n"
   ]
  },
  {
   "cell_type": "markdown",
   "metadata": {
    "slideshow": {
     "slide_type": "subslide",
     "data": {
      "background-image": "./images/presentation/animation/2.png",
      "data-transition": "none",
      "data-background-transition": "none"
     }
    }
   },
   "source": [
    "<!-- gif image -->"
   ]
  },
  {
   "cell_type": "markdown",
   "metadata": {
    "slideshow": {
     "slide_type": "subslide",
     "data": {
      "background-image": "./images/presentation/animation/3.png",
      "data-transition": "none",
      "data-background-transition": "none"
     }
    }
   },
   "source": [
    "<!-- gif image -->"
   ]
  },
  {
   "cell_type": "markdown",
   "metadata": {
    "slideshow": {
     "slide_type": "subslide",
     "data": {
      "background-image": "./images/presentation/animation/4.png",
      "data-transition": "none",
      "data-background-transition": "none"
     }
    }
   },
   "source": [
    "<!-- gif image -->"
   ]
  },
  {
   "cell_type": "markdown",
   "metadata": {
    "slideshow": {
     "slide_type": "subslide",
     "data": {
      "background-image": "./images/presentation/animation/5.png",
      "data-transition": "none",
      "data-background-transition": "none"
     }
    }
   },
   "source": [
    "<!-- gif image -->"
   ]
  },
  {
   "cell_type": "markdown",
   "metadata": {
    "slideshow": {
     "slide_type": "subslide",
     "data": {
      "background-image": "./images/presentation/animation/6.png",
      "data-transition": "none",
      "data-background-transition": "none"
     }
    }
   },
   "source": [
    "<!-- gif image -->"
   ]
  },
  {
   "cell_type": "markdown",
   "metadata": {
    "slideshow": {
     "slide_type": "subslide",
     "data": {
      "background-image": "./images/presentation/animation/7.png",
      "data-transition": "none",
      "data-background-transition": "none"
     }
    }
   },
   "source": [
    "<!-- gif image -->"
   ]
  },
  {
   "cell_type": "markdown",
   "metadata": {
    "slideshow": {
     "slide_type": "subslide",
     "data": {
      "background-image": "./images/presentation/animation/8.png",
      "data-transition": "none",
      "data-background-transition": "none"
     }
    }
   },
   "source": [
    "<!-- gif image -->"
   ]
  },
  {
   "cell_type": "markdown",
   "metadata": {
    "slideshow": {
     "slide_type": "subslide",
     "data": {
      "background-image": "./images/presentation/animation/9.png",
      "data-transition": "none",
      "data-background-transition": "none"
     }
    }
   },
   "source": [
    "<!-- gif image -->"
   ]
  },
  {
   "cell_type": "markdown",
   "metadata": {
    "slideshow": {
     "slide_type": "subslide",
     "data": {
      "background-image": "./images/presentation/animation/10.png",
      "data-transition": "none",
      "data-background-transition": "none"
     }
    }
   },
   "source": [
    "<!-- gif image -->"
   ]
  },
  {
   "cell_type": "markdown",
   "metadata": {
    "slideshow": {
     "slide_type": "subslide",
     "data": {
      "background-image": "./images/presentation/animation/11.png",
      "data-transition": "none",
      "data-background-transition": "none"
     }
    }
   },
   "source": [
    "<!-- gif image -->"
   ]
  },
  {
   "cell_type": "markdown",
   "metadata": {
    "slideshow": {
     "slide_type": "subslide",
     "data": {
      "background-image": "./images/presentation/animation/12.png",
      "data-transition": "none",
      "data-background-transition": "none"
     }
    }
   },
   "source": [
    "<!-- gif image -->"
   ]
  },
  {
   "cell_type": "markdown",
   "metadata": {
    "slideshow": {
     "slide_type": "subslide",
     "data": {
      "background-image": "./images/presentation/animation/13.png",
      "data-transition": "none",
      "data-background-transition": "none"
     }
    }
   },
   "source": [
    "<!-- gif image -->"
   ]
  },
  {
   "cell_type": "markdown",
   "metadata": {
    "slideshow": {
     "slide_type": "subslide",
     "data": {
      "background-image": "./images/presentation/animation/14.png",
      "data-transition": "none",
      "data-background-transition": "none"
     }
    }
   },
   "source": [
    "<!-- gif image -->"
   ]
  },
  {
   "cell_type": "markdown",
   "metadata": {
    "slideshow": {
     "slide_type": "subslide",
     "data": {
      "background-image": "./images/presentation/animation/15.png",
      "data-transition": "none",
      "data-background-transition": "none"
     }
    }
   },
   "source": [
    "<!-- gif image -->"
   ]
  },
  {
   "cell_type": "markdown",
   "metadata": {
    "slideshow": {
     "slide_type": "subslide",
     "data": {
      "background-image": "./images/presentation/animation/16.png",
      "data-transition": "none",
      "data-background-transition": "none"
     }
    }
   },
   "source": [
    "<!-- gif image -->"
   ]
  },
  {
   "cell_type": "markdown",
   "metadata": {
    "slideshow": {
     "slide_type": "subslide",
     "data": {
      "background-image": "./images/presentation/animation/17.png",
      "data-transition": "none",
      "data-background-transition": "none"
     }
    }
   },
   "source": [
    "<!-- gif image -->"
   ]
  },
  {
   "cell_type": "markdown",
   "metadata": {
    "slideshow": {
     "slide_type": "subslide",
     "data": {
      "background-image": "./images/presentation/animation/18.png",
      "data-transition": "none",
      "data-background-transition": "none"
     }
    }
   },
   "source": [
    "<!-- gif image -->"
   ]
  },
  {
   "cell_type": "markdown",
   "metadata": {
    "slideshow": {
     "slide_type": "subslide",
     "data": {
      "background-image": "./images/presentation/animation/19.png",
      "data-transition": "none",
      "data-background-transition": "none"
     }
    }
   },
   "source": [
    "<!-- gif image -->"
   ]
  },
  {
   "cell_type": "markdown",
   "metadata": {
    "slideshow": {
     "slide_type": "subslide",
     "data": {
      "background-image": "./images/presentation/animation/20.png",
      "data-transition": "none",
      "data-background-transition": "none"
     }
    }
   },
   "source": [
    "<!-- gif image -->"
   ]
  },
  {
   "cell_type": "markdown",
   "metadata": {
    "slideshow": {
     "slide_type": "subslide"
    }
   },
   "source": [
    "<span style=\"color: #cdcdcd;\"><b>Rebuilding</b> allows you to get a fresh environment anytime you want:</span>\n",
    "\n",
    "![Devcontainer rebuild option](images/presentation/devcontainer-vscode-rebuild.png)"
   ]
  },
  {
   "cell_type": "markdown",
   "metadata": {
    "slideshow": {
     "slide_type": "notes"
    }
   },
   "source": [
    "Helping out:\n",
    "\n",
    "<table style=\"font-size: 110%;\">\n",
    "    <tr style=\"background: none\">\n",
    "        <td style=\"border: none;\">\n",
    "            <div class=\"teams-avatar teams-background-1\" style=\"top:0;\">\n",
    "                PP\n",
    "            </div>\n",
    "        </td>\n",
    "        <td style=\"border: none; color: #5b5b5b;\">\n",
    "            Petra the Python Dev\n",
    "        </td>\n",
    "        <td style=\"border: none;\">\n",
    "            Corrupted Virtual Environment<br>\n",
    "        </td>\n",
    "    </tr>\n",
    "</table>"
   ]
  },
  {
   "cell_type": "markdown",
   "metadata": {
    "slideshow": {
     "slide_type": "slide"
    }
   },
   "source": [
    "### What is happening under the hood 🚗\n",
    "\n",
    "<span style=\"color: #ccc;\">Besides starting the Docker image and attaching the terminal to it, VSCode is doing a couple more things:</span>\n",
    "\n",
    "<ol>\n",
    "    <li class=\"fragment\"><b><a href=\"https://code.visualstudio.com/docs/remote/vscode-server\">VSCode Server</a></b> is being installed on your Devcontainer.\n",
    "        <br><span style=\"color: #cecece;\">VSCode Server is installed as a service in the container itself so your VSCode installation can communicate with the container. <br>For example, install and run <b>extensions</b>.</span>\n",
    "    </li>\n",
    "    <li class=\"fragment\"><b>Config is copied</b> over.\n",
    "        <br><span style=\"color: #cecece;\">Config like <code>~/.gitconfig</code> and <code>~/.ssh/known_hosts</code> are copied over to their respective locations in the container.</span>\n",
    "    </li>\n",
    "    <li class=\"fragment\"><b>Filesystem mounts</b>. \n",
    "        <br>\n",
    "        <span style=\"color: #cecece;\">VSCode automatically takes care of mounting: \n",
    "        <ul>\n",
    "            <li>The folder you are running the Devcontainer from.</li>\n",
    "            <li>Your VSCode workspace folder.</li>\n",
    "        </ul>\n",
    "        </span>\n",
    "    </li>\n",
    "</ol>\n"
   ]
  },
  {
   "cell_type": "markdown",
   "metadata": {
    "slideshow": {
     "slide_type": "notes"
    }
   },
   "source": [
    "\n",
    "<span style=\"color: #ccc;\">Besides starting the Docker image and attaching the terminal to it, VSCode is doing a couple more things:</span>\n",
    "\n",
    "<ol>\n",
    "    <li><b><a href=\"https://code.visualstudio.com/docs/remote/vscode-server\">VSCode Server</a></b> is being installed on your Devcontainer.\n",
    "        <br><span style=\"color: #aaa;\">VSCode Server is installed as a service in the container itself so your VSCode installation can communicate with the container. <br>For example, install and run <b>extensions</b>.</span>\n",
    "    </li>\n",
    "    <li><b>Config is copied</b> over.\n",
    "        <br><span style=\"color: #aaa;\">Config like <code>~/.gitconfig</code> and <code>~/.ssh/known_hosts</code> are copied over to their respective locations in the container.</span>\n",
    "    </li>\n",
    "    <li><b>Filesystem mounts</b>. \n",
    "        <br>\n",
    "        <span style=\"color: #aaa;\">VSCode automatically takes care of mounting: \n",
    "        <ul>\n",
    "            <li>The folder you are running the Devcontainer from.</li>\n",
    "            <li>Your VSCode workspace folder.</li>\n",
    "        </ul>\n",
    "        </span>\n",
    "    </li>\n",
    "</ol>"
   ]
  },
  {
   "cell_type": "markdown",
   "metadata": {
    "slideshow": {
     "slide_type": "slide"
    }
   },
   "source": [
    "### Opening your Devcontainer with the click of a button\n",
    "\n",
    "<span style=\"color:#bbb;\">Your entire project setup is now encapsulated in the Devcontainer. So actually we can add a <b style=\"color: black;\">Markdown</b> button to open up the Devcontainer:</span>"
   ]
  },
  {
   "cell_type": "markdown",
   "metadata": {
    "slideshow": {
     "slide_type": "fragment"
    }
   },
   "source": [
    "\n",
    "<pre class=\"markdown\"><code data-line-numbers=\"*|6\">[\n",
    "&nbsp;&nbsp;&nbsp;&nbsp;![Open in Remote - Containers](\n",
    "&nbsp;&nbsp;&nbsp;&nbsp;&nbsp;&nbsp;&nbsp;&nbsp;https://img.shields.io/static/v1?label=Remote%20-%20Containers&message=Open&color=blue&logo=visualstudiocode\n",
    "&nbsp;&nbsp;&nbsp;&nbsp;)\n",
    "](\n",
    "&nbsp;&nbsp;&nbsp;&nbsp;https://vscode.dev/redirect?url=vscode://ms-vscode-remote.remote-containers/cloneInVolume?url=https://github.com/godatadriven/python-devcontainer-template\n",
    ")\n",
    "</code></pre>\n"
   ]
  },
  {
   "cell_type": "markdown",
   "metadata": {
    "slideshow": {
     "slide_type": "subslide"
    }
   },
   "source": [
    "Which basically means, open this URL:\n",
    "\n",
    "<pre class=\"markdown\"><code data-line-numbers>vscode://\n",
    "&nbsp;&nbsp;ms-vscode-remote.remote-containers/\n",
    "&nbsp;&nbsp;cloneInVolume?\n",
    "&nbsp;&nbsp;url=https://github.com/godatadriven/python-devcontainer-template\n",
    "</code></pre>\n",
    "\n",
    "<span style=\"color:#bbb;\">Just modify the GitHub URL after `url=` ✓.</span>"
   ]
  },
  {
   "cell_type": "markdown",
   "metadata": {
    "slideshow": {
     "slide_type": "subslide"
    }
   },
   "source": [
    "This renders the following button:\n",
    "\n",
    "<a href=\"https://vscode.dev/redirect?url=vscode://ms-vscode-remote.remote-containers/cloneInVolume?url=https://github.com/godatadriven/python-devcontainer-template\"><img src=\"https://img.shields.io/static/v1?label=Remote%20-%20Containers&amp;message=Open&amp;color=blue&amp;logo=visualstudiocode\" alt=\"Open in Remote - Containers\" style=\"\n",
    "    width: 400px;\n",
    "\"></a>"
   ]
  },
  {
   "cell_type": "markdown",
   "metadata": {
    "slideshow": {
     "slide_type": "subslide"
    }
   },
   "source": [
    "<!-- What kind of README would you rather like?\n",
    "\n",
    "<table>\n",
    "<thead>\n",
    "<tr>\n",
    "  <th style=\"text-align:center\">Manual installation</th>\n",
    "  <th style=\"text-align:center\">Using a Devcontainer 🙌🏻</th>\n",
    "</tr>\n",
    "</thead>\n",
    "<tbody>\n",
    "<tr>\n",
    "  <td style=\"text-align:center; vertical-align: top;\"><img src=\"./images/presentation/installation-instructions-manual.png\" alt=\"\"></td>\n",
    "  <td style=\"text-align:center;  vertical-align: top;\"><img src=\"./images/presentation/installation-instructions-devcontainer.png\" alt=\"\"></td>\n",
    "</tr>\n",
    "</tbody>\n",
    "</table> -->\n",
    "\n",
    "<p>What kind of README would you rather like?</p>\n",
    "<img src=\"./images/presentation/installation-instructions-manual.png\" alt=\"\" style=\"\n",
    "    width: 49%;\n",
    "    display: inline-block;\n",
    "    margin: 0;\n",
    "\"><img src=\"./images/presentation/installation-instructions-devcontainer.png\" alt=\"\" style=\"\n",
    "    display: inline-block;\n",
    "    width: 49%;\n",
    "    vertical-align: top;\n",
    "    margin: 0;\n",
    "\">"
   ]
  },
  {
   "cell_type": "markdown",
   "metadata": {
    "slideshow": {
     "slide_type": "slide"
    }
   },
   "source": [
    "## Extending the Devcontainer\n",
    "\n",
    "<span style=\"color:#bbb;\">We have built a working Devcontainer, that is great! But a couple things are still missing.</span>\n"
   ]
  },
  {
   "cell_type": "markdown",
   "metadata": {
    "slideshow": {
     "slide_type": "fragment"
    }
   },
   "source": [
    "- Install a **non-root user** for extra safety and good-practice"
   ]
  },
  {
   "cell_type": "markdown",
   "metadata": {
    "slideshow": {
     "slide_type": "fragment"
    }
   },
   "source": [
    "- Pass in **custom VSCode settings** and install extensions by default\n"
   ]
  },
  {
   "cell_type": "markdown",
   "metadata": {
    "slideshow": {
     "slide_type": "fragment"
    }
   },
   "source": [
    "- Be able to access Spark UI (**opening up port 4040**)\n"
   ]
  },
  {
   "cell_type": "markdown",
   "metadata": {
    "slideshow": {
     "slide_type": "fragment"
    }
   },
   "source": [
    "- Run **Continuous Integration** (CI) in the Devcontainer\n"
   ]
  },
  {
   "cell_type": "markdown",
   "metadata": {
    "slideshow": {
     "slide_type": "fragment"
    }
   },
   "source": [
    "Let's see how.\n"
   ]
  },
  {
   "cell_type": "markdown",
   "metadata": {
    "slideshow": {
     "slide_type": "subslide"
    }
   },
   "source": [
    "### Installing a non-root user\n",
    "\n",
    "<!-- > Step 2 -->\n",
    "\n",
    "If you `pip install` a new package, you will see the following message:\n",
    "\n",
    "![The warning message: “*WARNING: Running pip as the 'root' user can result in broken permissions and conflicting behaviour with the system package manager. It is recommended to use a virtual environment instead: [https://pip.pypa.io/warnings/venv](https://pip.pypa.io/warnings/venv)*](https://godatadriven.com/wp-content/uploads/2022/10/running-pip-as-root.png)\n"
   ]
  },
  {
   "cell_type": "markdown",
   "metadata": {
    "slideshow": {
     "slide_type": "subslide"
    }
   },
   "source": [
    "So let's go ahead and create a user for this scenario.\n",
    "\n",
    "<pre class=\"language-bash\"><code data-line-numbers=\"3-4\"># Add non-root user\n",
    "ARG USERNAME=nonroot\n",
    "RUN groupadd --gid 1000 $USERNAME && \\\n",
    "&nbsp;&nbsp;&nbsp;&nbsp;useradd --uid 1000 --gid 1000 -m $USERNAME\n",
    "## Make sure to reflect new user in PATH\n",
    "ENV PATH=\"/home/${USERNAME}/.local/bin:${PATH}\"\n",
    "USER $USERNAME\n",
    "</code></pre>\n"
   ]
  },
  {
   "cell_type": "markdown",
   "metadata": {
    "slideshow": {
     "slide_type": "fragment"
    }
   },
   "source": [
    "\n",
    "Add the following property to `devcontainer.json`:\n",
    "\n",
    "```json\n",
    "    \"remoteUser\": \"nonroot\"\n",
    "```"
   ]
  },
  {
   "cell_type": "markdown",
   "metadata": {
    "slideshow": {
     "slide_type": "fragment"
    }
   },
   "source": [
    "That's great! When we now start the container we should connect as the user `nonroot`.\n"
   ]
  },
  {
   "cell_type": "markdown",
   "metadata": {
    "slideshow": {
     "slide_type": "subslide"
    }
   },
   "source": [
    "### Passing custom VSCode settings\n",
    "\n"
   ]
  },
  {
   "cell_type": "markdown",
   "metadata": {
    "slideshow": {
     "slide_type": "fragment"
    }
   },
   "source": [
    "```json\n",
    "\"customizations\": {\n",
    "    \"vscode\": {\n",
    "        \"extensions\": [\n",
    "            \"ms-python.python\"\n",
    "        ],\n",
    "        \"settings\": {\n",
    "            \"python.testing.pytestArgs\": [\n",
    "                \".\"\n",
    "            ],\n",
    "            \"python.testing.unittestEnabled\": false,\n",
    "            \"python.testing.pytestEnabled\": true,\n",
    "            \"python.formatting.provider\": \"black\",\n",
    "            \"python.linting.mypyEnabled\": true,\n",
    "            \"python.linting.enabled\": true\n",
    "        }\n",
    "    }\n",
    "}\n",
    "```"
   ]
  },
  {
   "cell_type": "markdown",
   "metadata": {
    "slideshow": {
     "slide_type": "notes"
    }
   },
   "source": [
    "Helping out:\n",
    "\n",
    "<tr style=\"background: none\" class=\"fragment\">\n",
    "    <td style=\"border: none;\">\n",
    "        <div class=\"teams-avatar teams-background-5\" style=\"top:0;\">\n",
    "            JJ\n",
    "        </div>\n",
    "    </td>\n",
    "    <td style=\"border: none; color: #5b5b5b;\">\n",
    "        Johnny Junior \n",
    "    </td>\n",
    "    <td style=\"border: none;\">\n",
    "        No formal specification of install steps\n",
    "        <br><span style=\"color:#ccc;\">and missing docs 📚</span>\n",
    "    </td>\n",
    "</tr>"
   ]
  },
  {
   "cell_type": "markdown",
   "metadata": {
    "slideshow": {
     "slide_type": "notes"
    }
   },
   "source": [
    "The defined extensions are always installed in the Devcontainer. However, the defined settings provide just a **default** for the user to use, and can still be overriden by other setting scopes like: User Settings, Remote Settings or Workspace Settings.\n"
   ]
  },
  {
   "cell_type": "markdown",
   "metadata": {
    "slideshow": {
     "slide_type": "subslide"
    }
   },
   "source": [
    "### Accessing Spark UI\n",
    "\n",
    "<!-- > Step 4 -->\n",
    "\n",
    "Since we are using pyspark, it would be nice to be able to access **Spark UI**."
   ]
  },
  {
   "cell_type": "markdown",
   "metadata": {
    "slideshow": {
     "slide_type": "fragment"
    }
   },
   "source": [
    "\n",
    "```json\n",
    "\"portsAttributes\": {\n",
    "    \"4040\": {\n",
    "        \"label\": \"SparkUI\",\n",
    "        \"onAutoForward\": \"notify\"\n",
    "    }\n",
    "},\n",
    "\n",
    "\"forwardPorts\": [\n",
    "    4040\n",
    "]\n",
    "```"
   ]
  },
  {
   "cell_type": "markdown",
   "metadata": {
    "slideshow": {
     "slide_type": "subslide"
    }
   },
   "source": [
    "When we now run our code, we get a notification we can open Spark UI in the browser:\n",
    "\n",
    "![open Spark UI in the browser](./images/presentation/application-running-on-port-4040.png)\n"
   ]
  },
  {
   "cell_type": "markdown",
   "metadata": {
    "slideshow": {
     "slide_type": "subslide"
    }
   },
   "source": [
    "Resulting in the Spark UI like we know it:\n",
    "\n",
    "<img src=\"./images/presentation/spark-ui-visible-in-localhost-4040.png\" alt=\"spark UI in the browser\" style=\"width: 70%; margin: 0;\" >"
   ]
  },
  {
   "cell_type": "markdown",
   "metadata": {
    "slideshow": {
     "slide_type": "subslide"
    }
   },
   "source": [
    "### Running our CI in the Devcontainer\n"
   ]
  },
  {
   "cell_type": "markdown",
   "metadata": {
    "slideshow": {
     "slide_type": "notes"
    }
   },
   "source": [
    "Wouldn't it be convenient if we could re-use our Devcontainer to run our Continuous Integration (CI) pipeline as well? Indeed, we can do this with Devcontainers. Similarly to how the Devcontainer image is built locally using `docker build`, the same can be done _within_ a CI/CD pipeline.\n"
   ]
  },
  {
   "cell_type": "markdown",
   "metadata": {
    "slideshow": {
     "slide_type": "fragment"
    }
   },
   "source": [
    "There are two basic options:\n",
    "\n",
    "1. Build the Docker image _within_ the CI/CD pipeline\n",
    "2. Prebuilding the image\n",
    "\n",
    "<span style=\"color:#aaa\">Let's see about option number (1).</span>"
   ]
  },
  {
   "cell_type": "markdown",
   "metadata": {
    "slideshow": {
     "slide_type": "subslide"
    }
   },
   "source": [
    "#### 1. Build the Docker image _within_ the CI/CD pipeline\n",
    "\n",
    "Luckily, a GitHub Action was already setup for us to do exactly this:\n",
    "\n",
    "[devcontainers/ci](https://github.com/devcontainers/ci)\n"
   ]
  },
  {
   "cell_type": "markdown",
   "metadata": {
    "slideshow": {
     "slide_type": "subslide"
    }
   },
   "source": [
    "To now build, push and run a command in the Devcontainer is as easy as:\n",
    "\n",
    "<pre class=\"language-yaml\"><code data-line-numbers=\"1|15-20|21-26\">\n",
    "name: Python app\n",
    "\n",
    "on:\n",
    "&nbsp;&nbsp;...\n",
    "\n",
    "jobs:\n",
    "&nbsp;build:\n",
    "&nbsp;&nbsp;runs-on: ubuntu-latest\n",
    "\n",
    "&nbsp;&nbsp;steps:\n",
    "&nbsp;&nbsp;&nbsp;- name: Checkout (GitHub)\n",
    "&nbsp;&nbsp;&nbsp;&nbsp;uses: actions/checkout@v3\n",
    "\n",
    "&nbsp;&nbsp;&nbsp;- name: Login to GitHub Container Registry\n",
    "&nbsp;&nbsp;&nbsp;&nbsp;uses: docker/login-action@v2\n",
    "&nbsp;&nbsp;&nbsp;&nbsp;with:\n",
    "&nbsp;&nbsp;&nbsp;&nbsp;&nbsp;registry: ghcr.io\n",
    "&nbsp;&nbsp;&nbsp;&nbsp;&nbsp;username: ${{ github.repository_owner }}\n",
    "&nbsp;&nbsp;&nbsp;&nbsp;&nbsp;password: ${{ secrets.GITHUB_TOKEN }}\n",
    "\n",
    "&nbsp;&nbsp;&nbsp;- name: Build and run dev container task\n",
    "&nbsp;&nbsp;&nbsp;&nbsp;uses: devcontainers/ci@v0.2\n",
    "&nbsp;&nbsp;&nbsp;&nbsp;with:\n",
    "&nbsp;&nbsp;&nbsp;&nbsp;&nbsp;imageName: ghcr.io/${{ github.repository }}/devcontainer\n",
    "&nbsp;&nbsp;&nbsp;&nbsp;&nbsp;runCmd: pytest .\n",
    "</code></pre>"
   ]
  },
  {
   "cell_type": "markdown",
   "metadata": {
    "slideshow": {
     "slide_type": "notes"
    }
   },
   "source": [
    "That's great! Whenever this workflow runs on your main branch, the image will be pushed to the configured registry; in this case GitHub Container Registry (GHCR)."
   ]
  },
  {
   "cell_type": "markdown",
   "metadata": {
    "slideshow": {
     "slide_type": "subslide"
    }
   },
   "source": [
    "See below a trace of the executed GitHub Action:\n",
    "\n",
    "<img src=\"./images/presentation/running-ci-in-the-devcontainer-github-actions.png\" alt=\"running-ci-in-the-devcontainer-github-actions\" style=\"width: 90%\">\n",
    "\n",
    "Awesome!"
   ]
  },
  {
   "cell_type": "markdown",
   "metadata": {
    "slideshow": {
     "slide_type": "notes"
    }
   },
   "source": [
    "<span style=\"color: #cdcdcd;\"><b>Consistent</b> environment</span>\n",
    "\n",
    "<table style=\"font-size: 110%;\">\n",
    "    <tr style=\"background: none\">\n",
    "        <td style=\"border: none;\">\n",
    "            <div class=\"teams-avatar teams-background-4\" style=\"top:0;\">\n",
    "                PU\n",
    "            </div>\n",
    "        </td>\n",
    "        <td style=\"border: none; color: #5b5b5b;\">\n",
    "            PySpark user\n",
    "        </td>\n",
    "        <td style=\"border: none;\">\n",
    "            Inconsistent environments\n",
    "            <br><span style=\"color:#ccc;\">e.g. local ↔ CI ↔ prod ↔ team members</span>\n",
    "        </td>\n",
    "    </tr>\n",
    "</table>"
   ]
  },
  {
   "cell_type": "markdown",
   "metadata": {
    "slideshow": {
     "slide_type": "slide"
    }
   },
   "source": [
    "## The final Devcontainer definition\n",
    "\n",
    "We built the following Devcontainer definitions. \n"
   ]
  },
  {
   "cell_type": "markdown",
   "metadata": {
    "slideshow": {
     "slide_type": "subslide"
    }
   },
   "source": [
    "First, `devcontainer.json`:\n",
    "\n",
    "```json\n",
    "{\n",
    "    \"build\": {\n",
    "        \"dockerfile\": \"Dockerfile\",\n",
    "        \"context\": \"..\"\n",
    "    },\n",
    "\n",
    "    \"remoteUser\": \"nonroot\",\n",
    "\n",
    "    \"customizations\": {\n",
    "        \"vscode\": {\n",
    "            \"extensions\": [\n",
    "                \"ms-python.python\"\n",
    "            ],\n",
    "            \"settings\": {\n",
    "                \"python.testing.pytestArgs\": [\n",
    "                    \".\"\n",
    "                ],\n",
    "                \"python.testing.unittestEnabled\": false,\n",
    "                \"python.testing.pytestEnabled\": true,\n",
    "                \"python.formatting.provider\": \"black\",\n",
    "                \"python.linting.mypyEnabled\": true,\n",
    "                \"python.linting.enabled\": true\n",
    "            }\n",
    "        }\n",
    "    },\n",
    "    ...\n",
    "}\n",
    "```"
   ]
  },
  {
   "cell_type": "markdown",
   "metadata": {
    "slideshow": {
     "slide_type": "subslide"
    }
   },
   "source": [
    "```json\n",
    "\"portsAttributes\": {\n",
    "    \"4040\": {\n",
    "        \"label\": \"SparkUI\",\n",
    "        \"onAutoForward\": \"notify\"\n",
    "    }\n",
    "},\n",
    "\n",
    "\"forwardPorts\": [\n",
    "    4040\n",
    "]\n",
    "```"
   ]
  },
  {
   "cell_type": "markdown",
   "metadata": {
    "slideshow": {
     "slide_type": "subslide"
    }
   },
   "source": [
    "\n",
    "And our `Dockerfile`:\n",
    "\n",
    "```docker\n",
    "FROM python:3.10\n",
    "\n",
    "# Install Java\n",
    "RUN apt update && \\\n",
    "    apt install -y sudo && \\\n",
    "    sudo apt install default-jdk -y\n",
    "\n",
    "# Add non-root user\n",
    "ARG USERNAME=nonroot\n",
    "RUN groupadd --gid 1000 $USERNAME && \\\n",
    "    useradd --uid 1000 --gid 1000 -m $USERNAME\n",
    "## Make sure to reflect new user in PATH\n",
    "ENV PATH=\"/home/${USERNAME}/.local/bin:${PATH}\"\n",
    "USER $USERNAME\n",
    "\n",
    "## Pip dependencies\n",
    "# Upgrade pip\n",
    "RUN pip install --upgrade pip\n",
    "# Install production dependencies\n",
    "COPY --chown=nonroot:1000 requirements.txt /tmp/requirements.txt\n",
    "RUN pip install -r /tmp/requirements.txt && \\\n",
    "    rm /tmp/requirements.txt\n",
    "# Install development dependencies\n",
    "COPY --chown=nonroot:1000 requirements-dev.txt /tmp/requirements-dev.txt\n",
    "RUN pip install -r /tmp/requirements-dev.txt && \\\n",
    "    rm /tmp/requirements-dev.txt\n",
    "```"
   ]
  },
  {
   "cell_type": "markdown",
   "metadata": {
    "slideshow": {
     "slide_type": "skip"
    }
   },
   "source": [
    "## Three environments 🎁\n",
    "\n",
    "<span style=\"color:#aaa;\">The above idea sets us up for having 3 different images for our entire lifecycle. One for Development, one for CI, and finally one for production.</span>\n"
   ]
  },
  {
   "cell_type": "markdown",
   "metadata": {
    "slideshow": {
     "slide_type": "skip"
    }
   },
   "source": [
    "\n",
    "![three-environments-docker-images-devcontainer](./images/presentation/three-environments.png)\n",
    "\n",
    "<!-- https://excalidraw.com/#json=xiyT30e-6fLScXqtXOx9-,pqW03Hw6D6FFb-0Q06VTQw -->"
   ]
  },
  {
   "cell_type": "markdown",
   "metadata": {
    "slideshow": {
     "slide_type": "slide"
    }
   },
   "source": [
    "## Going further 🔮\n"
   ]
  },
  {
   "cell_type": "markdown",
   "metadata": {
    "slideshow": {
     "slide_type": "fragment"
    }
   },
   "source": [
    "- [Mounting directories ](https://code.visualstudio.com/remote/advancedcontainers/add-local-file-mount)\n",
    "\n",
    "    💡 Pro tip: mount your AWS/GCP/Azure credentials"
   ]
  },
  {
   "cell_type": "markdown",
   "metadata": {
    "slideshow": {
     "slide_type": "fragment"
    }
   },
   "source": [
    "- Devcontainer [templates](https://containers.dev/templates)"
   ]
  },
  {
   "cell_type": "markdown",
   "metadata": {
    "slideshow": {
     "slide_type": "fragment"
    }
   },
   "source": [
    "- Devcontainer [features](https://containers.dev/features)"
   ]
  },
  {
   "cell_type": "markdown",
   "metadata": {
    "slideshow": {
     "slide_type": "fragment"
    }
   },
   "source": [
    "- **Remote Development 🌐**\n",
    "\n",
    "    e.g. GitHub Codespaces, VM's on Azure/GCP/AWS"
   ]
  },
  {
   "cell_type": "markdown",
   "metadata": {
    "slideshow": {
     "slide_type": "fragment"
    }
   },
   "source": [
    "\n",
    "... and much more (see references slide)"
   ]
  },
  {
   "cell_type": "markdown",
   "metadata": {
    "slideshow": {
     "slide_type": "slide"
    }
   },
   "source": [
    "\n",
    "## Concluding\n",
    "\n",
    "🔌 **Devcontainers** connect your IDE to a running 🐳 Docker container."
   ]
  },
  {
   "cell_type": "markdown",
   "metadata": {
    "slideshow": {
     "slide_type": "fragment"
    }
   },
   "source": [
    "→ _reproducibility_ & _isolation_ whilst getting a _native_ experience."
   ]
  },
  {
   "cell_type": "markdown",
   "metadata": {},
   "source": [
    "\n",
    "<table>\n",
    "<tr>\n",
    "<td width=\"70%\" style=\"vertical-align: baseline;\">\n",
    "<span style=\"color: #4d4d4d;\" class=\"fragment\">🔄 <b>Reproducible</b> means:</span>\n",
    "<ul>\n",
    "<li class=\"fragment\">\n",
    "⚡️ Faster onboarding\n",
    "</li>\n",
    "<li class=\"fragment\">\n",
    "👨‍👩‍👧‍👦 Better alignment between team members\n",
    "</li>\n",
    "<li class=\"fragment\">\n",
    "⏱ Smaller gap to production\n",
    "</li>\n",
    "</ul>\n",
    "</td>\n",
    "<td width=\"30%\" style=\"vertical-align: top;\"  >\n",
    "\n",
    "</td>\n",
    "</tr>\n",
    "</table>\n",
    "\n"
   ]
  },
  {
   "cell_type": "markdown",
   "metadata": {
    "slideshow": {
     "slide_type": "fragment"
    }
   },
   "source": [
    "Now only VSCode, but [open specification](https://containers.dev/) taking shape.\n"
   ]
  },
  {
   "cell_type": "markdown",
   "metadata": {
    "slideshow": {
     "slide_type": "subslide"
    }
   },
   "source": [
    "<h3>🤝</h3>\n",
    "<div class=\"teams-avatar teams-avatar-big teams-background-1\" style=\"top:0;left:50px; opacity:0.5;\">\n",
    "    PP\n",
    "</div>\n",
    "<div class=\"teams-avatar teams-avatar-big teams-background-2\" style=\"top:0;left:50px; opacity:0.5;\">\n",
    "    EO\n",
    "</div>\n",
    "<br>\n",
    "<div class=\"teams-avatar teams-avatar-big teams-background-3\" style=\"top:0; opacity:0.5;\">\n",
    "    BW\n",
    "</div>\n",
    "<div class=\"teams-avatar teams-avatar-big teams-background-4\" style=\"top:0; opacity:0.5;\">\n",
    "    PU\n",
    "</div>\n",
    "<div class=\"teams-avatar teams-avatar-big teams-background-5\" style=\"top:0; opacity:0.5;\">\n",
    "    JJ\n",
    "</div>"
   ]
  },
  {
   "cell_type": "markdown",
   "metadata": {
    "slideshow": {
     "slide_type": "fragment"
    }
   },
   "source": [
    "<h1>🫵</h1>"
   ]
  },
  {
   "cell_type": "markdown",
   "metadata": {
    "slideshow": {
     "slide_type": "slide"
    }
   },
   "source": [
    "\n",
    "## Thanks! 🙌🏻\n",
    "\n",
    "<div style=\"text-align: center;\">\n",
    "<img src=\"./images/presentation/qrcode_github_repo.png\" alt=\"python-devcontainer-template github QR code link\" width=\"400px\" /><br>\n",
    "<span style=\"text-align:center;\">\n",
    "<a href=\"https://github.com/godatadriven/python-devcontainer-template\">github.com/godatadriven/python-devcontainer-template</a>\n",
    "</span>\n",
    "</div>\n",
    "\n",
    "<!-- <table>\n",
    "<tr>\n",
    "<td width=\"40%\">\n",
    "<img src=\"./images/presentation/cat.gif\" alt=\"moving cat gif\" />\n",
    "</td>\n",
    "<td width=\"60%\" style=\"text-align: center;\">\n",
    "<img src=\"./images/presentation/qrcode_github_repo.png\" alt=\"python-devcontainer-template github QR code link\" width=\"400px\" /><br>\n",
    "<span style=\"text-align:center;\">\n",
    "<a href=\"https://github.com/godatadriven/python-devcontainer-template\">github.com/godatadriven/python-devcontainer-template</a>\n",
    "</span>\n",
    "</td>\n",
    "</tr>\n",
    "</table> -->\n",
    "\n",
    "<!-- <p>What kind of README would you rather like?</p>\n",
    "<img src=\"./images/presentation/cat.gif\" alt=\"\" style=\"\n",
    "    width: 49%;\n",
    "    display: inline-block;\n",
    "    margin: 0;\n",
    "\"><img src=\"./images/presentation/installation-instructions-devcontainer.png\" alt=\"\" style=\"\n",
    "    display: inline-block;\n",
    "    width: 49%;\n",
    "    vertical-align: top;\n",
    "    margin: 0;\n",
    "\"> -->"
   ]
  },
  {
   "cell_type": "markdown",
   "metadata": {
    "slideshow": {
     "slide_type": "slide"
    }
   },
   "source": [
    "\n",
    "### Awesome resources\n",
    "Associated blog post:\n",
    "- [How to create a Devcontainer for your Python project 🐳](https://godatadriven.com/blog/how-to-create-a-devcontainer-for-your-python-project-%F0%9F%90%B3/)\n",
    "\n",
    "Spec:\n",
    "- [containers.dev](https://containers.dev/). The official Devcontainer specification.\n",
    "    - [Devcontainer templates](https://containers.dev/templates)\n",
    "    - [Devcontainer features](https://containers.dev/features)\n"
   ]
  },
  {
   "cell_type": "markdown",
   "metadata": {
    "slideshow": {
     "slide_type": "subslide"
    }
   },
   "source": [
    "\n",
    "Docs:\n",
    "- [Dev Containers VSCode extension](https://marketplace.visualstudio.com/items?itemName=ms-vscode-remote.remote-containers). The extension required to connect VSCode to a Devcontainer.\n",
    "- [Mounting file directories](https://code.visualstudio.com/remote/advancedcontainers/add-local-file-mount) in Devcontainers.\n",
    "- [Add a non-root user to a container](https://code.visualstudio.com/remote/advancedcontainers/add-nonroot-user). More explanations & instructions for adding a non-root user to your `Dockerfile` and `devcontainer.json`.\n",
    "- [Pre-building dev container images](https://code.visualstudio.com/docs/remote/containers#_prebuilding-dev-container-images)\n",
    "\n",
    "\n",
    "Repo's:\n",
    "- [github.com/devcontainers/ci](https://github.com/devcontainers/ci). Run your CI in your Devcontainers. Built on the [Devcontainer CLI](https://github.com/devcontainers/cli).\n",
    "- [github.com/devcontainers/images](https://github.com/devcontainers/images). A collection of ready-to-use Devcontainer images.\n",
    "- [github.com/manekinekko/awesome-devcontainers](https://github.com/manekinekko/awesome-devcontainers). A repo pointing to yet even more awesome resources."
   ]
  },
  {
   "cell_type": "markdown",
   "metadata": {
    "slideshow": {
     "slide_type": "notes"
    }
   },
   "source": [
    "\n",
    "## About\n",
    "\n",
    "Author: [Jeroen Overschie](https://www.github.com/dunnkers), working at [GoDataDriven](https://godatadriven.com/)."
   ]
  }
 ],
 "metadata": {
  "kernelspec": {
   "display_name": "Python 3.8.10 64-bit",
   "language": "python",
   "name": "python3"
  },
  "language_info": {
   "codemirror_mode": {
    "name": "ipython",
    "version": 3
   },
   "file_extension": ".py",
   "mimetype": "text/x-python",
   "name": "python",
   "nbconvert_exporter": "python",
   "pygments_lexer": "ipython3",
   "version": "3.8.10"
  },
  "orig_nbformat": 4,
  "title": "How to create a Devcontainer for your Python project 🐳",
  "vscode": {
   "interpreter": {
    "hash": "31f2aee4e71d21fbe5cf8b01ff0e069b9275f58929596ceb00d14d90e3e16cd6"
   }
  }
 },
 "nbformat": 4,
 "nbformat_minor": 2
}
