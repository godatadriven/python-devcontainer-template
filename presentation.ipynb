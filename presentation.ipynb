{
 "cells": [
  {
   "cell_type": "markdown",
   "metadata": {
    "slideshow": {
     "slide_type": "slide"
    }
   },
   "source": [
    "# How to create a Devcontainer for your Python project 🐳\n",
    "\n",
    "![Docker ship background wallpaper image](https://godatadriven.com/wp-content/uploads/2022/09/without-ship-taller-img.png)"
   ]
  },
  {
   "cell_type": "markdown",
   "metadata": {
    "slideshow": {
     "slide_type": "slide"
    }
   },
   "source": [
    "## The use case\n",
    "\n",
    "You are assigned to setup a new repo for a team. The requirements are as follows:"
   ]
  },
  {
   "cell_type": "markdown",
   "metadata": {
    "slideshow": {
     "slide_type": "fragment"
    }
   },
   "source": [
    "- Apache Spark to process data"
   ]
  },
  {
   "cell_type": "markdown",
   "metadata": {
    "slideshow": {
     "slide_type": "fragment"
    }
   },
   "source": [
    "- using `pyspark` "
   ]
  },
  {
   "cell_type": "markdown",
   "metadata": {
    "slideshow": {
     "slide_type": "fragment"
    }
   },
   "source": [
    "- In a Python module"
   ]
  },
  {
   "cell_type": "markdown",
   "metadata": {
    "slideshow": {
     "slide_type": "fragment"
    }
   },
   "source": [
    "So we need to align on:"
   ]
  },
  {
   "cell_type": "markdown",
   "metadata": {
    "slideshow": {
     "slide_type": "fragment"
    }
   },
   "source": [
    "- 📌 A specific Java version"
   ]
  },
  {
   "cell_type": "markdown",
   "metadata": {
    "slideshow": {
     "slide_type": "fragment"
    }
   },
   "source": [
    "- 📌 A specific Python version"
   ]
  },
  {
   "cell_type": "markdown",
   "metadata": {
    "slideshow": {
     "slide_type": "fragment"
    }
   },
   "source": [
    "- 📌 A specific `pyspark` version"
   ]
  },
  {
   "cell_type": "markdown",
   "metadata": {
    "slideshow": {
     "slide_type": "fragment"
    }
   },
   "source": [
    "→ otherwise we do not enjoy the guarantees we want in **production** code"
   ]
  },
  {
   "cell_type": "markdown",
   "metadata": {
    "slideshow": {
     "slide_type": "subslide"
    }
   },
   "source": [
    "# “I never get to the actual work because I am always configuring Python virtual environments”\n",
    "\n",
    "— Python Developer, source and date unknown"
   ]
  },
  {
   "cell_type": "markdown",
   "metadata": {
    "slideshow": {
     "slide_type": "subslide"
    }
   },
   "source": [
    "<table style=\"background-color: #F5F5F5\">\n",
    "    <tr style=\"background: none\">\n",
    "        <td style=\"border: none\">\n",
    "            <img src=\"./images/presentation/teams-logo-32.png\" />\n",
    "        </td>\n",
    "    </tr>\n",
    "    <tr style=\"background: none\">\n",
    "        <td style=\"border: none\">\n",
    "            <img class=\"fragment\" src=\"./images/presentation/messed-up-pyenv.png\" />\n",
    "        </td>\n",
    "        <td style=\"border: none\">\n",
    "        </td>\n",
    "        <td style=\"border: none\">\n",
    "            <img class=\"fragment\" src=\"images/presentation/project-deps-dont-work-on-modern-os.png\" />\n",
    "        </td>\n",
    "    </tr>\n",
    "    <tr style=\"background: none\">\n",
    "        <td style=\"border: none\">\n",
    "            <img class=\"fragment\" src=\"./images/presentation/difficulties-dockerizing-and-going-into-production.png\" />\n",
    "        </td>\n",
    "        <td style=\"border: none\" colspan=\"2\">\n",
    "            <img class=\"fragment\" src=\"./images/presentation/misaligned-environments.png\" />\n",
    "        </td>\n",
    "    </tr>\n",
    "    <tr style=\"background: none\">\n",
    "        <td style=\"border: none\" colspan=\"3\">\n",
    "            <img class=\"fragment\" src=\"./images/presentation/corrupted-venv.png\" />\n",
    "        </td>\n",
    "    </tr>\n",
    "</table>"
   ]
  },
  {
   "cell_type": "markdown",
   "metadata": {
    "slideshow": {
     "slide_type": "slide"
    }
   },
   "source": [
    "## Devcontainers to the rescue ⛑!"
   ]
  },
  {
   "cell_type": "markdown",
   "metadata": {
    "slideshow": {
     "slide_type": "fragment"
    }
   },
   "source": [
    "**Docker** helps us create a formal definition of our environment. **Devcontainers** allow you to connect your editor to that container."
   ]
  },
  {
   "cell_type": "markdown",
   "metadata": {
    "slideshow": {
     "slide_type": "notes"
    }
   },
   "source": [
    "Instead of giving other developers a setup document, let’s make sure we also create formal instructions so we can *automatically* set up the development environment. Docker lets us do exactly this – on which Devcontainers are built on top of. "
   ]
  },
  {
   "cell_type": "markdown",
   "metadata": {
    "slideshow": {
     "slide_type": "fragment"
    }
   },
   "source": [
    "Devcontainers can help us:\n",
    "\n",
    "- 🔄 Get a reproducible development environment\n",
    "- ⚡️ Instantly onboard new team members onto your project\n",
    "- 👨‍👩‍👧‍👦 Better align the environments between team members\n",
    "- ⏱ Keeping your dev environment up-to-date & reproducible saves you team going into production later"
   ]
  },
  {
   "cell_type": "markdown",
   "metadata": {
    "slideshow": {
     "slide_type": "slide"
    }
   },
   "source": [
    "## 👷🏻‍♂️ Let's build a Devcontainer!"
   ]
  },
  {
   "cell_type": "markdown",
   "metadata": {
    "slideshow": {
     "slide_type": "subslide"
    }
   },
   "source": [
    "Let’s say we have a really simple project that looks like this:\n",
    "\n",
    "```bash\n",
    "$ tree .\n",
    ".\n",
    "├── README.md\n",
    "├── requirements.txt\n",
    "├── requirements-dev.txt\n",
    "├── sales_analysis.py\n",
    "└── test_sales_analysis.py\n",
    "```"
   ]
  },
  {
   "cell_type": "markdown",
   "metadata": {
    "slideshow": {
     "slide_type": "subslide"
    }
   },
   "source": [
    "### The `.devcontainer` folder\n",
    "Your Devcontainer spec will live inside the `.devcontainer` folder."
   ]
  },
  {
   "cell_type": "markdown",
   "metadata": {
    "slideshow": {
     "slide_type": "fragment"
    }
   },
   "source": [
    " There will be two main files:\n",
    "\n",
    "- `devcontainer.json`\n",
    "- `Dockerfile`\n"
   ]
  },
  {
   "cell_type": "markdown",
   "metadata": {
    "slideshow": {
     "slide_type": "subslide"
    }
   },
   "source": [
    "Create a new file called `devcontainer.json`:\n",
    "\n",
    "```json\n",
    "{\n",
    "    \"build\": {\n",
    "        \"dockerfile\": \"Dockerfile\",\n",
    "        \"context\": \"..\"\n",
    "    }\n",
    "}\n",
    "```\n"
   ]
  },
  {
   "cell_type": "markdown",
   "metadata": {
    "slideshow": {
     "slide_type": "fragment"
    }
   },
   "source": [
    "This does basically means: as a base for our Devcontainer, use the `Dockerfile` located in the current directory, and build it with a *current working directory* (cwd) of `..`.\n"
   ]
  },
  {
   "cell_type": "markdown",
   "metadata": {
    "slideshow": {
     "slide_type": "subslide"
    }
   },
   "source": [
    "So how does this `Dockerfile` look like?\n",
    "\n",
    "```docker\n",
    "FROM python:3.10\n",
    "\n",
    "# Install Java\n",
    "RUN apt update && \\\n",
    "    apt install -y sudo && \\\n",
    "    sudo apt install default-jdk -y\n",
    "\n",
    "## Pip dependencies\n",
    "# Upgrade pip\n",
    "RUN pip install --upgrade pip\n",
    "# Install production dependencies\n",
    "COPY requirements.txt /tmp/requirements.txt\n",
    "RUN pip install -r /tmp/requirements.txt && \\\n",
    "    rm /tmp/requirements.txt\n",
    "# Install development dependencies\n",
    "COPY requirements-dev.txt /tmp/requirements-dev.txt\n",
    "RUN pip install -r /tmp/requirements-dev.txt && \\\n",
    "    rm /tmp/requirements-dev.txt\n",
    "```\n"
   ]
  },
  {
   "cell_type": "markdown",
   "metadata": {
    "slideshow": {
     "slide_type": "notes"
    }
   },
   "source": [
    "We are building our image on top of `python:3.10`, which is a Debian-based image. This is one of the Linux distributions that a Devcontainer can be built on. The main requirement is that **Node.js** should be able to run: VSCode automatically installs VSCode Server on the machine.\n",
    "\n",
    "For an extensive list of supported distributions, see [“Remote Development with Linux”](https://code.visualstudio.com/docs/remote/linux)."
   ]
  },
  {
   "cell_type": "markdown",
   "metadata": {
    "slideshow": {
     "slide_type": "slide"
    }
   },
   "source": [
    "### Opening the Devcontainer\n",
    "\n",
    "The `.devcontainer` folder in place, now it’s time to open our Devcontainer.\n"
   ]
  },
  {
   "cell_type": "markdown",
   "metadata": {
    "slideshow": {
     "slide_type": "fragment"
    }
   },
   "source": [
    "![folder contains a dev container config file](https://godatadriven.com/wp-content/uploads/2022/10/folder-contains-a-dev-container-config-file.png)\n"
   ]
  },
  {
   "cell_type": "markdown",
   "metadata": {
    "slideshow": {
     "slide_type": "subslide"
    }
   },
   "source": [
    "Alternatively, you can open up the command pallete (<kbd>CMD</kbd> + <kbd>Shift</kbd> + <kbd>P</kbd>) and select “*Dev Containers: Reopen in Container*”:\n",
    "\n",
    "![Dev Containers: Reopen in Container](https://godatadriven.com/wp-content/uploads/2022/10/reopen-in-devcontainer-notification.png)\n"
   ]
  },
  {
   "cell_type": "markdown",
   "metadata": {
    "slideshow": {
     "slide_type": "subslide"
    }
   },
   "source": [
    "Your VSCode is now connected to the Docker container 🙌🏻:\n",
    "\n",
    "![VSCode is now connected to the Docker container](https://godatadriven.com/wp-content/uploads/2022/10/opening-the-devcontainer.gif)\n"
   ]
  },
  {
   "cell_type": "markdown",
   "metadata": {
    "slideshow": {
     "slide_type": "slide"
    }
   },
   "source": [
    "### What is happening under the hood 🚗\n",
    "\n",
    "Besides starting the Docker image and attaching the terminal to it, VSCode is doing a couple more things:\n"
   ]
  },
  {
   "cell_type": "markdown",
   "metadata": {
    "slideshow": {
     "slide_type": "fragment"
    }
   },
   "source": [
    "1. [**VSCode Server**](https://code.visualstudio.com/docs/remote/vscode-server) is being installed on your Devcontainer. VSCode Server is installed as a service in the container itself so your VSCode installation can communicate with the container. For example, install and run extensions.\n"
   ]
  },
  {
   "cell_type": "markdown",
   "metadata": {
    "slideshow": {
     "slide_type": "fragment"
    }
   },
   "source": [
    "\n",
    "2. **Config is copied** over. Config like `~/.gitconfig` and `~/.ssh/known_hosts` are copied over to their respective locations in the container.\n",
    "    <!-- This then allows you to use your Git repo like you would do normally, without re-authenticating. -->\n"
   ]
  },
  {
   "cell_type": "markdown",
   "metadata": {
    "slideshow": {
     "slide_type": "fragment"
    }
   },
   "source": [
    "\n",
    "3. **Filesystem mounts**. VSCode automatically takes care of mounting: 1) The folder you are running the Devcontainer from and 2) your VSCode workspace folder.\n"
   ]
  },
  {
   "cell_type": "markdown",
   "metadata": {
    "slideshow": {
     "slide_type": "slide"
    }
   },
   "source": [
    "### Opening your repo directly in a Devcontainer\n",
    "Actually, since all instructions on how to configure your dev environment is now defined in a Dockerfile, users can open up your Devcontainer with just one button:\n",
    "\n",
    "[![Open in Remote - Containers](https://img.shields.io/static/v1?label=Remote%20-%20Containers&message=Open&color=blue&logo=visualstudiocode)](https://vscode.dev/redirect?url=vscode://ms-vscode-remote.remote-containers/cloneInVolume?url=https://github.com/godatadriven/python-devcontainer-template)\n",
    "\n"
   ]
  },
  {
   "cell_type": "markdown",
   "metadata": {
    "slideshow": {
     "slide_type": "subslide"
    }
   },
   "source": [
    "Aint that cool? You can add a button to your own repo like so:\n",
    "\n",
    "```markdown\n",
    "[![Open in Remote - Containers](https://img.shields.io/static/v1?label=Remote%20-%20Containers&message=Open&color=blue&logo=visualstudiocode)](https://vscode.dev/redirect?url=vscode://ms-vscode-remote.remote-containers/cloneInVolume?url=https://github.com/godatadriven/python-devcontainer-template)\n",
    "```\n",
    "\n",
    "Just modify the GitHub URL ✓.\n"
   ]
  },
  {
   "cell_type": "markdown",
   "metadata": {
    "slideshow": {
     "slide_type": "subslide"
    }
   },
   "source": [
    "What kind of README would you rather like?\n",
    "\n",
    "Manual installation             |  Using a Devcontainer 🙌🏻\n",
    ":-------------------------:|:-------------------------:\n",
    "![](https://godatadriven.com/wp-content/uploads/2022/10/installation-instructions-manual.png)  |  ![](https://godatadriven.com/wp-content/uploads/2022/10/installation-instructions-devcontainer.png)\n"
   ]
  },
  {
   "cell_type": "markdown",
   "metadata": {
    "slideshow": {
     "slide_type": "slide"
    }
   },
   "source": [
    "## Extending the Devcontainer\n",
    "\n",
    "We have built a working Devcontainer, that is great! But a couple things are still missing.\n"
   ]
  },
  {
   "cell_type": "markdown",
   "metadata": {
    "slideshow": {
     "slide_type": "fragment"
    }
   },
   "source": [
    "- Install a **non-root user** for extra safety and good-practice"
   ]
  },
  {
   "cell_type": "markdown",
   "metadata": {
    "slideshow": {
     "slide_type": "fragment"
    }
   },
   "source": [
    "- Pass in **custom VSCode settings** and install extensions by default\n"
   ]
  },
  {
   "cell_type": "markdown",
   "metadata": {
    "slideshow": {
     "slide_type": "fragment"
    }
   },
   "source": [
    "- Be able to access Spark UI (**opening up port 4040**)\n"
   ]
  },
  {
   "cell_type": "markdown",
   "metadata": {
    "slideshow": {
     "slide_type": "fragment"
    }
   },
   "source": [
    "- Run **Continuous Integration** (CI) in the Devcontainer\n"
   ]
  },
  {
   "cell_type": "markdown",
   "metadata": {
    "slideshow": {
     "slide_type": "fragment"
    }
   },
   "source": [
    "Let's see how.\n"
   ]
  },
  {
   "cell_type": "markdown",
   "metadata": {
    "slideshow": {
     "slide_type": "subslide"
    }
   },
   "source": [
    "### Installing a non-root user\n",
    "\n",
    "<!-- > Step 2 -->\n",
    "\n",
    "If you `pip install` a new package, you will see the following message:\n",
    "\n",
    "![The warning message: “*WARNING: Running pip as the 'root' user can result in broken permissions and conflicting behaviour with the system package manager. It is recommended to use a virtual environment instead: [https://pip.pypa.io/warnings/venv](https://pip.pypa.io/warnings/venv)*](https://godatadriven.com/wp-content/uploads/2022/10/running-pip-as-root.png)\n"
   ]
  },
  {
   "cell_type": "markdown",
   "metadata": {
    "slideshow": {
     "slide_type": "subslide"
    }
   },
   "source": [
    "So let's go ahead and create a user for this scenario.\n",
    "\n",
    "```bash\n",
    "# Add non-root user\n",
    "ARG USERNAME=nonroot\n",
    "RUN groupadd --gid 1000 $USERNAME && \\\n",
    "    useradd --uid 1000 --gid 1000 -m $USERNAME\n",
    "## Make sure to reflect new user in PATH\n",
    "ENV PATH=\"/home/${USERNAME}/.local/bin:${PATH}\"\n",
    "USER $USERNAME\n",
    "```\n"
   ]
  },
  {
   "cell_type": "markdown",
   "metadata": {
    "slideshow": {
     "slide_type": "fragment"
    }
   },
   "source": [
    "\n",
    "Add the following property to `devcontainer.json`:\n",
    "\n",
    "```json\n",
    "    \"remoteUser\": \"nonroot\"\n",
    "```"
   ]
  },
  {
   "cell_type": "markdown",
   "metadata": {
    "slideshow": {
     "slide_type": "fragment"
    }
   },
   "source": [
    "That's great! When we now start the container we should connect as the user `nonroot`.\n"
   ]
  },
  {
   "cell_type": "markdown",
   "metadata": {
    "slideshow": {
     "slide_type": "subslide"
    }
   },
   "source": [
    "### Passing custom VSCode settings\n",
    "\n"
   ]
  },
  {
   "cell_type": "markdown",
   "metadata": {
    "slideshow": {
     "slide_type": "fragment"
    }
   },
   "source": [
    "\n",
    "```json\n",
    "     \"customizations\": {\n",
    "        \"vscode\": {\n",
    "            \"extensions\": [\n",
    "                \"ms-python.python\"\n",
    "            ],\n",
    "            \"settings\": {\n",
    "                \"python.testing.pytestArgs\": [\n",
    "                    \".\"\n",
    "                ],\n",
    "                \"python.testing.unittestEnabled\": false,\n",
    "                \"python.testing.pytestEnabled\": true,\n",
    "                \"python.formatting.provider\": \"black\",\n",
    "                \"python.linting.mypyEnabled\": true,\n",
    "                \"python.linting.enabled\": true\n",
    "            }\n",
    "        }\n",
    "    }\n",
    "```"
   ]
  },
  {
   "cell_type": "markdown",
   "metadata": {
    "slideshow": {
     "slide_type": "notes"
    }
   },
   "source": [
    "The defined extensions are always installed in the Devcontainer. However, the defined settings provide just a **default** for the user to use, and can still be overriden by other setting scopes like: User Settings, Remote Settings or Workspace Settings.\n"
   ]
  },
  {
   "cell_type": "markdown",
   "metadata": {
    "slideshow": {
     "slide_type": "subslide"
    }
   },
   "source": [
    "### Accessing Spark UI\n",
    "\n",
    "<!-- > Step 4 -->\n",
    "\n",
    "Since we are using pyspark, it would be nice to be able to access **Spark UI**."
   ]
  },
  {
   "cell_type": "markdown",
   "metadata": {
    "slideshow": {
     "slide_type": "fragment"
    }
   },
   "source": [
    "\n",
    "```json\n",
    "    \"portsAttributes\": {\n",
    "        \"4040\": {\n",
    "            \"label\": \"SparkUI\",\n",
    "            \"onAutoForward\": \"notify\"\n",
    "        }\n",
    "    },\n",
    "\n",
    "    \"forwardPorts\": [\n",
    "        4040\n",
    "    ]\n",
    "```"
   ]
  },
  {
   "cell_type": "markdown",
   "metadata": {
    "slideshow": {
     "slide_type": "subslide"
    }
   },
   "source": [
    "When we now run our code, we get a notification we can open Spark UI in the browser:\n",
    "\n",
    "![open Spark UI in the browser](https://godatadriven.com/wp-content/uploads/2022/10/application-running-on-port-4040.png)\n"
   ]
  },
  {
   "cell_type": "markdown",
   "metadata": {
    "slideshow": {
     "slide_type": "subslide"
    }
   },
   "source": [
    "\n",
    "Resulting in the Spark UI like we know it:\n",
    "\n",
    "![spark UI in the browser](https://godatadriven.com/wp-content/uploads/2022/10/spark-ui-visible-in-localhost-4040.png)\n",
    "\n",
    "✨"
   ]
  },
  {
   "cell_type": "markdown",
   "metadata": {
    "slideshow": {
     "slide_type": "subslide"
    }
   },
   "source": [
    "### Running our CI in the Devcontainer\n"
   ]
  },
  {
   "cell_type": "markdown",
   "metadata": {
    "slideshow": {
     "slide_type": "notes"
    }
   },
   "source": [
    "Wouldn't it be convenient if we could re-use our Devcontainer to run our Continuous Integration (CI) pipeline as well? Indeed, we can do this with Devcontainers. Similarly to how the Devcontainer image is built locally using `docker build`, the same can be done _within_ a CI/CD pipeline.\n"
   ]
  },
  {
   "cell_type": "markdown",
   "metadata": {
    "slideshow": {
     "slide_type": "fragment"
    }
   },
   "source": [
    "There are two basic options:\n",
    "\n",
    "1. Build the Docker image _within_ the CI/CD pipeline\n",
    "2. Prebuilding the image\n",
    "\n",
    "<span style=\"color:#aaa\">Let's see about option number (1).</span>"
   ]
  },
  {
   "cell_type": "markdown",
   "metadata": {
    "slideshow": {
     "slide_type": "subslide"
    }
   },
   "source": [
    "#### 1. Build the Docker image _within_ the CI/CD pipeline\n",
    "\n",
    "Luckily, a GitHub Action was already setup for us to do exactly this:\n",
    "\n",
    "[devcontainers/ci](https://github.com/devcontainers/ci)\n"
   ]
  },
  {
   "cell_type": "markdown",
   "metadata": {
    "slideshow": {
     "slide_type": "subslide"
    }
   },
   "source": [
    "To now build, push and run a command in the Devcontainer is as easy as:\n",
    "\n",
    "```yaml\n",
    "name: Python app\n",
    "\n",
    "on:\n",
    "  ...\n",
    "\n",
    "jobs:\n",
    "  build:\n",
    "    runs-on: ubuntu-latest\n",
    "\n",
    "    steps:\n",
    "      - name: Checkout (GitHub)\n",
    "        uses: actions/checkout@v3\n",
    "\n",
    "      - name: Login to GitHub Container Registry\n",
    "        uses: docker/login-action@v2\n",
    "        with:\n",
    "          registry: ghcr.io\n",
    "          username: ${{ github.repository_owner }}\n",
    "          password: ${{ secrets.GITHUB_TOKEN }}\n",
    "\n",
    "      - name: Build and run dev container task\n",
    "        uses: devcontainers/ci@v0.2\n",
    "        with:\n",
    "          imageName: ghcr.io/${{ github.repository }}/devcontainer\n",
    "          runCmd: pytest .\n",
    "```"
   ]
  },
  {
   "cell_type": "markdown",
   "metadata": {
    "slideshow": {
     "slide_type": "notes"
    }
   },
   "source": [
    "That's great! Whenever this workflow runs on your main branch, the image will be pushed to the configured registry; in this case GitHub Container Registry (GHCR)."
   ]
  },
  {
   "cell_type": "markdown",
   "metadata": {
    "slideshow": {
     "slide_type": "subslide"
    }
   },
   "source": [
    "See below a trace of the executed GitHub Action:\n",
    "\n",
    "![running-ci-in-the-devcontainer-github-actions](https://godatadriven.com/wp-content/uploads/2022/10/running-ci-in-the-devcontainer-github-actions.png)\n",
    "\n"
   ]
  },
  {
   "cell_type": "markdown",
   "metadata": {
    "slideshow": {
     "slide_type": "fragment"
    }
   },
   "source": [
    "Awesome!\n"
   ]
  },
  {
   "cell_type": "markdown",
   "metadata": {
    "slideshow": {
     "slide_type": "slide"
    }
   },
   "source": [
    "## The final Devcontainer definition\n",
    "\n",
    "We built the following Devcontainer definitions. \n"
   ]
  },
  {
   "cell_type": "markdown",
   "metadata": {
    "slideshow": {
     "slide_type": "subslide"
    }
   },
   "source": [
    "First, `devcontainer.json`:\n",
    "\n",
    "```json\n",
    "{\n",
    "    \"build\": {\n",
    "        \"dockerfile\": \"Dockerfile\",\n",
    "        \"context\": \"..\"\n",
    "    },\n",
    "\n",
    "    \"remoteUser\": \"nonroot\",\n",
    "\n",
    "    \"customizations\": {\n",
    "        \"vscode\": {\n",
    "            \"extensions\": [\n",
    "                \"ms-python.python\"\n",
    "            ],\n",
    "            \"settings\": {\n",
    "                \"python.testing.pytestArgs\": [\n",
    "                    \".\"\n",
    "                ],\n",
    "                \"python.testing.unittestEnabled\": false,\n",
    "                \"python.testing.pytestEnabled\": true,\n",
    "                \"python.formatting.provider\": \"black\",\n",
    "                \"python.linting.mypyEnabled\": true,\n",
    "                \"python.linting.enabled\": true\n",
    "            }\n",
    "        }\n",
    "    },\n",
    "    ...\n",
    "}\n",
    "```"
   ]
  },
  {
   "cell_type": "markdown",
   "metadata": {
    "slideshow": {
     "slide_type": "subslide"
    }
   },
   "source": [
    "```json\n",
    "\"portsAttributes\": {\n",
    "    \"4040\": {\n",
    "        \"label\": \"SparkUI\",\n",
    "        \"onAutoForward\": \"notify\"\n",
    "    }\n",
    "},\n",
    "\n",
    "\"forwardPorts\": [\n",
    "    4040\n",
    "]\n",
    "```"
   ]
  },
  {
   "cell_type": "markdown",
   "metadata": {
    "slideshow": {
     "slide_type": "subslide"
    }
   },
   "source": [
    "\n",
    "And our `Dockerfile`:\n",
    "\n",
    "```docker\n",
    "FROM python:3.10\n",
    "\n",
    "# Install Java\n",
    "RUN apt update && \\\n",
    "    apt install -y sudo && \\\n",
    "    sudo apt install default-jdk -y\n",
    "\n",
    "# Add non-root user\n",
    "ARG USERNAME=nonroot\n",
    "RUN groupadd --gid 1000 $USERNAME && \\\n",
    "    useradd --uid 1000 --gid 1000 -m $USERNAME\n",
    "## Make sure to reflect new user in PATH\n",
    "ENV PATH=\"/home/${USERNAME}/.local/bin:${PATH}\"\n",
    "USER $USERNAME\n",
    "\n",
    "## Pip dependencies\n",
    "# Upgrade pip\n",
    "RUN pip install --upgrade pip\n",
    "# Install production dependencies\n",
    "COPY --chown=nonroot:1000 requirements.txt /tmp/requirements.txt\n",
    "RUN pip install -r /tmp/requirements.txt && \\\n",
    "    rm /tmp/requirements.txt\n",
    "# Install development dependencies\n",
    "COPY --chown=nonroot:1000 requirements-dev.txt /tmp/requirements-dev.txt\n",
    "RUN pip install -r /tmp/requirements-dev.txt && \\\n",
    "    rm /tmp/requirements-dev.txt\n",
    "```"
   ]
  },
  {
   "cell_type": "markdown",
   "metadata": {
    "slideshow": {
     "slide_type": "slide"
    }
   },
   "source": [
    "## Three environments 🎁\n",
    "\n",
    "The above idea sets us up for having 3 different images for our entire lifecycle. One for Development, one for CI, and finally one for production. \n"
   ]
  },
  {
   "cell_type": "markdown",
   "metadata": {
    "slideshow": {
     "slide_type": "fragment"
    }
   },
   "source": [
    "\n",
    "![three-environments-docker-images-devcontainer](https://godatadriven.com/wp-content/uploads/2022/10/three-environments-docker-images-devcontainer-setup.png)\n"
   ]
  },
  {
   "cell_type": "markdown",
   "metadata": {
    "slideshow": {
     "slide_type": "slide"
    }
   },
   "source": [
    "## Going further 🔮\n"
   ]
  },
  {
   "cell_type": "markdown",
   "metadata": {
    "slideshow": {
     "slide_type": "fragment"
    }
   },
   "source": [
    "\n",
    "- Devcontainer [features](https://containers.dev/features)"
   ]
  },
  {
   "cell_type": "markdown",
   "metadata": {
    "slideshow": {
     "slide_type": "fragment"
    }
   },
   "source": [
    "- Devcontainer [templates](https://containers.dev/templates)"
   ]
  },
  {
   "cell_type": "markdown",
   "metadata": {
    "slideshow": {
     "slide_type": "fragment"
    }
   },
   "source": [
    "- [Mounting directories ](https://code.visualstudio.com/remote/advancedcontainers/add-local-file-mount)\n",
    "\n",
    "    💡 Pro tip: mount your AWS/GCP/Azure credentials\n",
    "\n",
    "\n",
    "... and much more:"
   ]
  },
  {
   "cell_type": "markdown",
   "metadata": {
    "slideshow": {
     "slide_type": "subslide"
    }
   },
   "source": [
    "\n",
    "### Awesome resources\n",
    "\n",
    "- [devcontainers/ci](https://github.com/devcontainers/ci). Run your CI in your Devcontainers. Built on the [Devcontainer CLI](https://github.com/devcontainers/cli).\n",
    "- [https://containers.dev/](https://containers.dev/). The official Devcontainer specification.\n",
    "- [devcontainers/images](https://github.com/devcontainers/images). A collection of ready-to-use Devcontainer images.\n",
    "- [Add a non-root user to a container](https://code.visualstudio.com/remote/advancedcontainers/add-nonroot-user). More explanations & instructions for adding a non-root user to your `Dockerfile` and `devcontainer.json`.\n",
    "- [Pre-building dev container images](https://code.visualstudio.com/docs/remote/containers#_prebuilding-dev-container-images)\n",
    "- [awesome-devcontainers](https://github.com/manekinekko/awesome-devcontainers). A repo pointing to yet even more awesome resources."
   ]
  },
  {
   "cell_type": "markdown",
   "metadata": {
    "slideshow": {
     "slide_type": "slide"
    }
   },
   "source": [
    "\n",
    "## Concluding\n",
    "Devcontainers have proven useful to: \n",
    "\n",
    "- 🔄 Get a reproducible development environment\n",
    "- ⚡️ Instantly onboard new team members onto your project\n",
    "- 👨‍👩‍👧‍👦 Better align the environments between team members\n",
    "- ⏱ Keeping your dev environment up-to-date & reproducible saves you team going into production later\n"
   ]
  },
  {
   "cell_type": "markdown",
   "metadata": {
    "slideshow": {
     "slide_type": "fragment"
    }
   },
   "source": [
    "\n",
    "Devcontainers are very well supported for **VSCode** but are now being standardized in an [open specification](https://containers.dev/). Even though it will probably still take a while to see wide adoption, the specification is a good candidate for the standardization of Devcontainers.\n"
   ]
  },
  {
   "cell_type": "markdown",
   "metadata": {
    "slideshow": {
     "slide_type": "slide"
    }
   },
   "source": [
    "\n",
    "## Thanks! 🙌🏻\n",
    "\n",
    "![moving cat gif](./images/presentation/cat.webp)\n",
    "\n",
    "Repo:\n",
    "[godatadriven/python-devcontainer-template](https://github.com/godatadriven/python-devcontainer-template)"
   ]
  },
  {
   "cell_type": "markdown",
   "metadata": {
    "slideshow": {
     "slide_type": "notes"
    }
   },
   "source": [
    "\n",
    "## About\n",
    "\n",
    "This blogpost is written by [Jeroen Overschie](https://www.github.com/dunnkers), working at [GoDataDriven](https://godatadriven.com/)."
   ]
  }
 ],
 "metadata": {
  "kernelspec": {
   "display_name": "Python 3.8.12 64-bit ('gdd-bookshelf')",
   "language": "python",
   "name": "python3"
  },
  "language_info": {
   "codemirror_mode": {
    "name": "ipython",
    "version": 3
   },
   "file_extension": ".py",
   "mimetype": "text/x-python",
   "name": "python",
   "nbconvert_exporter": "python",
   "pygments_lexer": "ipython3",
   "version": "3.8.12"
  },
  "orig_nbformat": 4,
  "title": "How to create a Devcontainer for your Python project 🐳",
  "vscode": {
   "interpreter": {
    "hash": "cfa9a50da3d4637f82269fc3a3053ef3f25951594169d63e1652eacd039c25cf"
   }
  }
 },
 "nbformat": 4,
 "nbformat_minor": 2
}
